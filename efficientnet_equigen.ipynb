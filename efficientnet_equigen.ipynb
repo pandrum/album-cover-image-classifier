{
 "cells": [
  {
   "cell_type": "markdown",
   "id": "2dda49a1-e78f-4b94-9d85-67b6c5f09e96",
   "metadata": {},
   "source": [
    "# Import libraries\n"
   ]
  },
  {
   "cell_type": "code",
   "execution_count": null,
   "id": "f512a2d9-e3cd-40f6-8631-3463a362d283",
   "metadata": {
    "tags": []
   },
   "outputs": [],
   "source": [
    "import numpy as np\n",
    "import tensorflow as tf\n",
    "from tensorflow.keras.preprocessing.image import ImageDataGenerator\n",
    "from tensorflow.keras.applications import ResNet101, ResNet50, EfficientNetV2B0\n",
    "from tensorflow.keras.layers import Dense, GlobalAveragePooling2D, Dropout, Input, Rescaling\n",
    "from tensorflow.keras.models import Model\n",
    "from tensorflow.keras.optimizers import Adam\n",
    "from tensorflow.keras.callbacks import ModelCheckpoint, EarlyStopping, ReduceLROnPlateau\n",
    "from tensorflow.keras.metrics import Precision, Recall\n",
    "from tensorflow.keras.preprocessing import image_dataset_from_directory\n",
    "from tensorflow.keras.regularizers import l2\n",
    "import pickle\n",
    "from PIL import Image\n",
    "import os\n",
    "import seaborn as sns\n",
    "from sklearn.metrics import classification_report, confusion_matrix, f1_score\n",
    "import matplotlib.pyplot as plt\n",
    "from keras_tuner import RandomSearch"
   ]
  },
  {
   "cell_type": "markdown",
   "id": "62d37227-eae6-4e88-bfe1-2b473326c46d",
   "metadata": {
    "tags": []
   },
   "source": [
    "# Setup and load data\n"
   ]
  },
  {
   "cell_type": "code",
   "execution_count": null,
   "id": "d976d902-81f3-4711-a9a9-8f1a22f6d62a",
   "metadata": {
    "tags": []
   },
   "outputs": [],
   "source": [
    "train_dir = '../equidata/split/train'\n",
    "validation_dir = '../equidata/split/val'\n",
    "test_dir = '../equidata/split/test'\n",
    "\n",
    "BATCH_SIZE = 50\n",
    "IMG_SIZE = (224, 224)\n",
    "\n",
    "train_dataset = image_dataset_from_directory(\n",
    "    directory=train_dir,\n",
    "    shuffle=True,\n",
    "    seed=1337,\n",
    "    batch_size=BATCH_SIZE,\n",
    "    image_size=IMG_SIZE,\n",
    "    label_mode='categorical'\n",
    ")\n",
    "\n",
    "validation_dataset = image_dataset_from_directory(\n",
    "    directory=validation_dir,\n",
    "    seed=1337,\n",
    "    shuffle=True,\n",
    "    batch_size=BATCH_SIZE,\n",
    "    image_size=IMG_SIZE,\n",
    "    label_mode='categorical'\n",
    ")\n",
    "\n",
    "test_dataset = image_dataset_from_directory(\n",
    "    directory=test_dir,\n",
    "    seed=1337,\n",
    "    shuffle=False,\n",
    "    batch_size=BATCH_SIZE,\n",
    "    image_size=IMG_SIZE,\n",
    "    label_mode='categorical'\n",
    ")\n",
    "\n",
    "class_names = train_dataset.class_names"
   ]
  },
  {
   "cell_type": "code",
   "execution_count": null,
   "id": "d0ec954e-5941-4bce-b730-400236baa75e",
   "metadata": {},
   "outputs": [],
   "source": [
    "AUTOTUNE = tf.data.AUTOTUNE\n",
    "\n",
    "train_dataset = train_dataset.cache().prefetch(buffer_size=AUTOTUNE)\n",
    "validation_dataset = validation_dataset.cache().prefetch(buffer_size=AUTOTUNE)\n",
    "test_dataset = test_dataset.cache().prefetch(buffer_size=AUTOTUNE)"
   ]
  },
  {
   "cell_type": "markdown",
   "id": "d2180215-3a4b-44de-bbb2-79248348b02c",
   "metadata": {
    "tags": []
   },
   "source": [
    "# Building and training model\n"
   ]
  },
  {
   "cell_type": "code",
   "execution_count": null,
   "id": "bf57c315-3606-4f9f-ba74-dfe92a1ca32d",
   "metadata": {
    "tags": []
   },
   "outputs": [],
   "source": [
    "def build_model(hp):\n",
    "    inputs = Input(shape=(224, 224, 3))\n",
    "\n",
    "    lr = hp.Float('learning_rate', min_value=1e-5,\n",
    "                  max_value=1e-2, sampling='log')\n",
    "    base_model = EfficientNetV2B0(\n",
    "        include_top=False, weights='imagenet', input_tensor=x)\n",
    "    x = GlobalAveragePooling2D()(base_model.output)\n",
    "    predictions = Dense(15, activation='softmax')(x)\n",
    "\n",
    "    model = Model(inputs=inputs, outputs=predictions)\n",
    "    model.compile(optimizer=Adam(learning_rate=lr),\n",
    "                  loss='categorical_crossentropy',\n",
    "                  metrics=['accuracy', Precision(), Recall()])\n",
    "\n",
    "    return model"
   ]
  },
  {
   "cell_type": "code",
   "execution_count": null,
   "id": "b0151188-3f09-4e50-b334-30aeb16acefc",
   "metadata": {},
   "outputs": [],
   "source": [
    "from tensorflow.keras.callbacks import ModelCheckpoint\n",
    "checkpoint_callback = ModelCheckpoint(\n",
    "    'best_model.h5',\n",
    "    monitor='val_accuracy',\n",
    "    save_best_only=True,\n",
    "    mode='max'\n",
    ")"
   ]
  },
  {
   "cell_type": "code",
   "execution_count": null,
   "id": "de5ed2c3-ed0c-4e76-bbe9-83dc59fd9f50",
   "metadata": {},
   "outputs": [],
   "source": [
    "tuner = RandomSearch(\n",
    "    build_model,\n",
    "    objective='val_accuracy',\n",
    "    max_trials=8,\n",
    "    executions_per_trial=1,\n",
    "    directory='random_search',\n",
    "    project_name='album_cover_classification'\n",
    ")"
   ]
  },
  {
   "cell_type": "code",
   "execution_count": null,
   "id": "a4500f11-4bd1-45b8-abde-85c2ec0a9e71",
   "metadata": {},
   "outputs": [],
   "source": [
    "tuner.search(\n",
    "    train_dataset,\n",
    "    epochs=10,\n",
    "    validation_data=validation_dataset,\n",
    "    callbacks=[checkpoint_callback]\n",
    ")"
   ]
  },
  {
   "cell_type": "markdown",
   "id": "586454e1-784f-4854-80d9-00388b9afdf4",
   "metadata": {
    "tags": []
   },
   "source": [
    "# Fit model from best learning rate\n"
   ]
  },
  {
   "cell_type": "code",
   "execution_count": null,
   "id": "0b76686b-4b30-4898-a176-570b6e987bfc",
   "metadata": {
    "tags": []
   },
   "outputs": [],
   "source": [
    "def build_model(hp):\n",
    "    inputs = Input(shape=(224, 224, 3))\n",
    "\n",
    "    lr = hp.Float('learning_rate', min_value=1e-5,\n",
    "                  max_value=1e-2, sampling='log')\n",
    "    base_model = EfficientNetV2B0(\n",
    "        include_top=False, weights='imagenet', input_tensor=x)\n",
    "    x = GlobalAveragePooling2D()(base_model.output)\n",
    "    predictions = Dense(15, activation='softmax')(x)\n",
    "\n",
    "    model = Model(inputs=inputs, outputs=predictions)\n",
    "    model.compile(optimizer=Adam(learning_rate=lr),\n",
    "                  loss='categorical_crossentropy',\n",
    "                  metrics=['accuracy', Precision(), Recall()])\n",
    "\n",
    "    return model"
   ]
  },
  {
   "cell_type": "code",
   "execution_count": null,
   "id": "7a2d2ec6-2fa5-4825-a4a7-9d04c0105513",
   "metadata": {
    "tags": []
   },
   "outputs": [],
   "source": [
    "best_hps = tuner.get_best_hyperparameters(num_trials=1)[0]\n",
    "print(f\"{best_hps.get('learning_rate')}.\")\n",
    "\n",
    "optimal_lr = best_hps.get('learning_rate')\n",
    "model = build_model(optimal_lr)"
   ]
  },
  {
   "cell_type": "code",
   "execution_count": null,
   "id": "b6750df6-b4c2-46bd-8146-52ccc446e3ce",
   "metadata": {
    "tags": []
   },
   "outputs": [],
   "source": [
    "history = model.fit(\n",
    "    train_dataset,\n",
    "    epochs=10,\n",
    "    validation_data=validation_dataset,\n",
    "    callbacks=[checkpoint_callback]\n",
    ")\n",
    "\n",
    "with open('model_history.pkl', 'wb') as file:\n",
    "    pickle.dump(history.history, file)"
   ]
  },
  {
   "cell_type": "markdown",
   "id": "90c5da8a-2977-428e-ad5d-b95871cd3fad",
   "metadata": {
    "tags": []
   },
   "source": [
    "# Load model and history\n"
   ]
  },
  {
   "cell_type": "code",
   "execution_count": null,
   "id": "9696e6fb-5113-4948-a724-060817b4d00e",
   "metadata": {},
   "outputs": [],
   "source": [
    "from tensorflow.keras.models import load_model\n",
    "best_model = load_model('best_model.h5')"
   ]
  },
  {
   "cell_type": "code",
   "execution_count": null,
   "id": "be3cc158-6fd2-4f47-9873-c40e86e84f7a",
   "metadata": {
    "tags": []
   },
   "outputs": [],
   "source": [
    "# Load history\n",
    "import pickle\n",
    "with open('model_history.pkl', 'rb') as f:\n",
    "    history = pickle.load(f)"
   ]
  },
  {
   "cell_type": "markdown",
   "id": "eb093bbb-9e57-4e49-b20d-3d7494393b8d",
   "metadata": {
    "tags": []
   },
   "source": [
    "# Metrics\n"
   ]
  },
  {
   "cell_type": "markdown",
   "id": "d711b6c9-0cd2-46de-99e7-b7e03388689f",
   "metadata": {
    "tags": []
   },
   "source": [
    "## Evaluation\n"
   ]
  },
  {
   "cell_type": "code",
   "execution_count": null,
   "id": "1c2c1980-0c25-4c96-be76-bc99e73f3d34",
   "metadata": {
    "tags": []
   },
   "outputs": [],
   "source": [
    "test_loss, test_acc, test_prec, test_recall = best_model.evaluate(test_dataset)\n",
    "print(f\"Test Loss: {test_loss:.2f}\")\n",
    "print(f\"Test Accuracy: {test_acc*100:.2f}%\")\n",
    "print(f\"Test Precision: {test_prec*100:.2f}%\")\n",
    "print(f\"Test Recall: {test_recall*100:.2f}%\")"
   ]
  },
  {
   "cell_type": "markdown",
   "id": "14f8624a-2061-488e-bde7-53860c654481",
   "metadata": {},
   "source": [
    "## Predictions\n"
   ]
  },
  {
   "cell_type": "code",
   "execution_count": null,
   "id": "b9a4c17f-d000-4614-8d78-91815d3eae3a",
   "metadata": {
    "tags": []
   },
   "outputs": [],
   "source": [
    "predictions = best_model.predict(test_dataset)\n",
    "predicted_classes = np.argmax(predictions, axis=1)\n",
    "\n",
    "true_classes = np.concatenate([y for x, y in test_dataset], axis=0)\n",
    "true_classes = np.argmax(true_classes, axis=1)"
   ]
  },
  {
   "cell_type": "markdown",
   "id": "d63ddbe0-8542-4305-a30e-b4a6bd4b5968",
   "metadata": {},
   "source": [
    "## Compute F1 Score, Classification Report, and Confusion Matrix\n"
   ]
  },
  {
   "cell_type": "code",
   "execution_count": null,
   "id": "c079d847-012c-49ca-96bb-b398f95aa322",
   "metadata": {
    "tags": []
   },
   "outputs": [],
   "source": [
    "f1 = f1_score(true_classes, predicted_classes, average='weighted')\n",
    "print(f\"F1 Score: {f1:.2f}\")\n",
    "\n",
    "report = classification_report(\n",
    "    true_classes, predicted_classes, target_names=class_names)\n",
    "print(report)\n",
    "\n",
    "conf_mat = confusion_matrix(true_classes, predicted_classes)"
   ]
  },
  {
   "cell_type": "markdown",
   "id": "dc30f9b2-e23a-4cfc-80de-ef1c69b27b3b",
   "metadata": {},
   "source": [
    "## Plot Confusion Matrix\n"
   ]
  },
  {
   "cell_type": "code",
   "execution_count": null,
   "id": "be976ce9-3644-47c9-8524-7bac4f26ba0d",
   "metadata": {
    "tags": []
   },
   "outputs": [],
   "source": [
    "import matplotlib.pyplot as plt\n",
    "from sklearn.metrics import confusion_matrix\n",
    "import numpy as np\n",
    "\n",
    "conf_mat = confusion_matrix(true_classes, predicted_classes)\n",
    "\n",
    "fig, ax = plt.subplots(figsize=(12, 10))\n",
    "cax = ax.matshow(conf_mat, cmap='Blues')\n",
    "\n",
    "plt.colorbar(cax)\n",
    "\n",
    "for i in range(conf_mat.shape[0]):\n",
    "    for j in range(conf_mat.shape[1]):\n",
    "        ax.text(j, i, str(conf_mat[i, j]),\n",
    "                va='center', ha='center', color='black')\n",
    "\n",
    "plt.xlabel('Predicted Classes')\n",
    "plt.ylabel('Actual Classes')\n",
    "\n",
    "ax.set_xticks(np.arange(len(class_names)))\n",
    "ax.set_yticks(np.arange(len(class_names)))\n",
    "\n",
    "ax.set_xticklabels(class_names)\n",
    "ax.set_yticklabels(class_names)\n",
    "\n",
    "plt.xticks(rotation=90)\n",
    "plt.yticks(rotation=0)\n",
    "\n",
    "plt.tight_layout()\n",
    "\n",
    "plt.show()"
   ]
  },
  {
   "cell_type": "markdown",
   "id": "3bbfa995-8543-4bd3-b8e7-33e160257412",
   "metadata": {},
   "source": [
    "## Plot Training/Validation Accuracy and Loss\n"
   ]
  },
  {
   "cell_type": "code",
   "execution_count": null,
   "id": "ca8c79ce-3508-41d7-9be3-82235d629a69",
   "metadata": {
    "tags": []
   },
   "outputs": [],
   "source": [
    "plt.figure(figsize=(12, 5))\n",
    "plt.subplot(1, 2, 1)\n",
    "plt.plot(history['accuracy'], label='Train Accuracy')\n",
    "plt.plot(history['val_accuracy'], label='Validation Accuracy')\n",
    "plt.title('Model Accuracy')\n",
    "plt.xlabel('Epoch')\n",
    "plt.ylabel('Accuracy')\n",
    "plt.legend(loc='lower right')\n",
    "\n",
    "plt.subplot(1, 2, 2)\n",
    "plt.plot(history['loss'], label='Train Loss')\n",
    "plt.plot(history['val_loss'], label='Validation Loss')\n",
    "plt.title('Model Loss')\n",
    "plt.xlabel('Epoch')\n",
    "plt.ylabel('Loss')\n",
    "plt.legend(loc='upper right')\n",
    "plt.show()"
   ]
  }
 ],
 "metadata": {
  "environment": {
   "kernel": "conda-env-tensorflow-tensorflow",
   "name": "workbench-notebooks.m120",
   "type": "gcloud",
   "uri": "us-docker.pkg.dev/deeplearning-platform-release/gcr.io/workbench-notebooks:m120"
  },
  "kernelspec": {
   "display_name": "TensorFlow 2-11",
   "language": "python",
   "name": "conda-env-tensorflow-tensorflow"
  },
  "language_info": {
   "codemirror_mode": {
    "name": "ipython",
    "version": 3
   },
   "file_extension": ".py",
   "mimetype": "text/x-python",
   "name": "python",
   "nbconvert_exporter": "python",
   "pygments_lexer": "ipython3",
   "version": "3.10.14"
  }
 },
 "nbformat": 4,
 "nbformat_minor": 5
}
